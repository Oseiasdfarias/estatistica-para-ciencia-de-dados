{
 "cells": [
  {
   "cell_type": "markdown",
   "metadata": {},
   "source": [
    "# **P2 - Estatística para Ciência de Dados**    \n",
    "\n",
    "#### ***Tema: Medidas de Assimetria - Estatística Descritiva***"
   ]
  },
  {
   "cell_type": "markdown",
   "metadata": {},
   "source": [
    "[Link da Video Aula do EstaTiDados](https://youtu.be/oq7ALPPAZtI?si=2J0_scQL_jK3Sjge)\n",
    "\n",
    "<p align=center><iframe width=\"560\" height=\"315\" src=\"https://www.youtube.com/embed/oq7ALPPAZtI?si=2J0_scQL_jK3Sjge\" title=\"YouTube video player\" frameborder=\"0\" allow=\"accelerometer; autoplay; clipboard-write; encrypted-media; gyroscope; picture-in-picture; web-share\" allowfullscreen></iframe></p>\n",
    "\n",
    "\n",
    "***Obs: Assunto novo a partir do tempo (07:20) da vídeo aula.***"
   ]
  },
  {
   "cell_type": "markdown",
   "metadata": {},
   "source": [
    "## **Diagrama de Boxplot (Diagrama de caixas)**"
   ]
  },
  {
   "cell_type": "markdown",
   "metadata": {},
   "source": [
    "\n",
    "Boxplot, também conhecido como diagrama de caixa ou gráfico de caixa, é uma ferramenta estatística utilizada para representar a distribuição de um conjunto de dados numéricos, destacando medidas de posição (como a mediana), dispersão e identificação de valores atípicos.\n",
    "\n",
    "<p align=center><img src=\"./uteis/g2.png\" width=\"400\"></p>\n",
    "\n",
    "Um boxplot é composto por elementos básicos que incluem:\n",
    "\n",
    "+ **Caixa (Box):** A caixa no centro do gráfico representa o intervalo interquartil (IQR), que abrange a maior parte dos dados (50% dos dados). A parte inferior da caixa indica o primeiro quartil (Q1), e a parte superior indica o terceiro quartil (Q3). A mediana é representada pela linha dentro da caixa.\n",
    "\n",
    "+ **Whiskers (ou Hastes):** São linhas que se estendem a partir da caixa até os valores extremos. Existem diferentes maneiras de calcular esses limites, mas geralmente eles se estendem até 1,5 vezes o IQR a partir dos quartis. Valores além desses limites são frequentemente considerados outliers.\n",
    "\n",
    "+ **Outliers (valores atípicos):** São pontos individuais fora dos limites dos whiskers. Eles podem ser indicativos de dados extremos ou erros na coleta dos dados.\n",
    "\n",
    "+ **Linha Central (Mediana):** Representa o valor central do conjunto de dados. Divide os dados em duas partes iguais, com 50% dos dados acima e 50% abaixo.\n",
    "\n",
    "Boxplots são úteis para comparar a distribuição de dados entre diferentes grupos ou categorias e identificar padrões, variabilidade e valores extremos nos dados. Eles são amplamente utilizados em estatística descritiva e análise exploratória de dados."
   ]
  }
 ],
 "metadata": {
  "language_info": {
   "name": "python"
  }
 },
 "nbformat": 4,
 "nbformat_minor": 2
}
