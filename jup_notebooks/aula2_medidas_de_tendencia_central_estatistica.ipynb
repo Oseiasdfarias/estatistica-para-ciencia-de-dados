{
 "cells": [
  {
   "cell_type": "markdown",
   "metadata": {},
   "source": [
    "# **P2 - Estatística para Ciência de Dados**    \n",
    "\n",
    "#### ***Tema: Medidas de Assimetria - Estatística Descritiva***"
   ]
  },
  {
   "cell_type": "markdown",
   "metadata": {},
   "source": [
    "[Link da Video Aula do EstaTiDados](https://youtu.be/oq7ALPPAZtI?si=2J0_scQL_jK3Sjge)\n",
    "\n",
    "<p align=center><iframe width=\"560\" height=\"315\" src=\"https://www.youtube.com/embed/oq7ALPPAZtI?si=2J0_scQL_jK3Sjge\" title=\"YouTube video player\" frameborder=\"0\" allow=\"accelerometer; autoplay; clipboard-write; encrypted-media; gyroscope; picture-in-picture; web-share\" allowfullscreen></iframe></p>\n",
    "\n",
    "\n",
    "***Obs: Assunto novo a partir do tempo (07:20 até 32:00) da vídeo aula.***"
   ]
  },
  {
   "cell_type": "markdown",
   "metadata": {},
   "source": [
    "## **Diagrama de Boxplot (Diagrama de caixas)**"
   ]
  },
  {
   "cell_type": "markdown",
   "metadata": {},
   "source": [
    "\n",
    "Boxplot, também conhecido como diagrama de caixa ou gráfico de caixa, é uma ferramenta estatística utilizada para representar a distribuição de um conjunto de dados numéricos, destacando medidas de posição (como a mediana), dispersão e identificação de valores atípicos.\n",
    "\n",
    "<p align=center><img src=\"./uteis/g2.png\" width=\"400\"></p>\n",
    "\n",
    "Um boxplot é composto por elementos básicos que incluem:\n",
    "\n",
    "+ **Caixa (Box):** A caixa no centro do gráfico representa o intervalo interquartil (IQR), que abrange a maior parte dos dados (50% dos dados). A parte inferior da caixa indica o primeiro quartil (Q1), e a parte superior indica o terceiro quartil (Q3). A mediana é representada pela linha dentro da caixa.\n",
    "\n",
    "+ **Whiskers (ou Hastes) - [Limites Inferior e Superior]:** São linhas que se estendem a partir da caixa até os valores extremos. Existem diferentes maneiras de calcular esses limites, mas geralmente eles se estendem até 1,5 vezes o IQR a partir dos quartis. Valores além desses limites são frequentemente considerados outliers.\n",
    "\n",
    "+ **Outliers (valores atípicos):** São pontos individuais fora dos limites dos whiskers. Eles podem ser indicativos de dados extremos ou erros na coleta dos dados.\n",
    "\n",
    "+ **Linha Central (Mediana):** Representa o valor central do conjunto de dados. Divide os dados em duas partes iguais, com 50% dos dados acima e 50% abaixo, também é o Quartil (Q2).\n",
    "\n",
    "Boxplots são úteis para comparar a distribuição de dados entre diferentes grupos ou categorias e identificar padrões, variabilidade e valores extremos nos dados. Eles são amplamente utilizados em estatística descritiva e análise exploratória de dados."
   ]
  },
  {
   "cell_type": "markdown",
   "metadata": {},
   "source": [
    "#### Exemplo com Python"
   ]
  },
  {
   "cell_type": "code",
   "execution_count": 2,
   "metadata": {},
   "outputs": [],
   "source": [
    "import numpy as np\n",
    "from matplotlib import pyplot as plt\n",
    "import seaborn as sns\n",
    "%matplotlib inline"
   ]
  },
  {
   "cell_type": "markdown",
   "metadata": {},
   "source": [
    "Gerando dados de exemplo"
   ]
  },
  {
   "cell_type": "code",
   "execution_count": 3,
   "metadata": {},
   "outputs": [
    {
     "data": {
      "text/plain": [
       "array([ 37.58179281,  36.27717831,  55.07547159, 153.49163668,\n",
       "        84.52794614,  64.97563324,  41.37268842,   2.38054928,\n",
       "        92.41184676,  46.92648996,  16.61695309,  44.19779265,\n",
       "        71.87035067,  81.62773172,  73.57723803,   5.85842653,\n",
       "        51.36239073,  32.09654136,  13.66027252,  90.21766158,\n",
       "        30.05129465,  70.06616201,  44.10608421, 214.88829135,\n",
       "        54.58908246,  69.21619477, -92.61945072,  84.89916923,\n",
       "        26.7842898 ,  83.47480057,  32.57831307,  32.80538563,\n",
       "        34.39029084,  86.97487101,  90.86468723,  66.33002399,\n",
       "        90.96839329,  76.06096297,  92.1841419 ,  46.06179166,\n",
       "         2.85204642,  93.02523435,  19.03070579, -52.61945072,\n",
       "         8.30685913,  47.43057071,  63.20255909,  72.06582878,\n",
       "        86.73100913,  84.34670987])"
      ]
     },
     "execution_count": 3,
     "metadata": {},
     "output_type": "execute_result"
    }
   ],
   "source": [
    "rng = np.random.default_rng()\n",
    "x = rng.uniform(size=(50,), low=1, high=100)\n",
    "\n",
    "# Adicionando outliers\n",
    "x[3], x[43] = (max(x)*1.65, (min(x)-55))\n",
    "x[23], x[26] = (max(x)*1.40, (min(x)-40))\n",
    "x"
   ]
  },
  {
   "cell_type": "code",
   "execution_count": 35,
   "metadata": {},
   "outputs": [
    {
     "data": {
      "image/png": "[encoded data removed]",
      "text/plain": [
       "<Figure size 400x400 with 1 Axes>"
      ]
     },
     "metadata": {},
     "output_type": "display_data"
    }
   ],
   "source": [
    "# plt.boxplot(x);\n",
    "plt.figure(figsize=(4, 4))\n",
    "sns.boxplot(y=x, color=\"#F3F5FC\", linecolor=\"#3B4252\",\n",
    "            linewidth=.75, native_scale=True)\n",
    "plt.show()"
   ]
  }
 ],
 "metadata": {
  "kernelspec": {
   "display_name": "Python 3",
   "language": "python",
   "name": "python3"
  },
  "language_info": {
   "codemirror_mode": {
    "name": "ipython",
    "version": 3
   },
   "file_extension": ".py",
   "mimetype": "text/x-python",
   "name": "python",
   "nbconvert_exporter": "python",
   "pygments_lexer": "ipython3",
   "version": "3.10.12"
  }
 },
 "nbformat": 4,
 "nbformat_minor": 2
}
