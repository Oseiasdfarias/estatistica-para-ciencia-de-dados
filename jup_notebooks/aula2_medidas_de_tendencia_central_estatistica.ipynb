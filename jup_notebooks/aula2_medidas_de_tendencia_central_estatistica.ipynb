{
 "cells": [
  {
   "cell_type": "markdown",
   "metadata": {},
   "source": [
    "# **P2 - Estatística para Ciência de Dados**    \n",
    "\n",
    "#### ***Tema: Medidas de Assimetria - Estatística Descritiva***"
   ]
  },
  {
   "cell_type": "markdown",
   "metadata": {},
   "source": [
    "[Link da Video Aula do EstaTiDados](https://youtu.be/oq7ALPPAZtI?si=2J0_scQL_jK3Sjge)\n",
    "\n",
    "<p align=center><iframe width=\"560\" height=\"315\" src=\"https://www.youtube.com/embed/oq7ALPPAZtI?si=2J0_scQL_jK3Sjge\" title=\"YouTube video player\" frameborder=\"0\" allow=\"accelerometer; autoplay; clipboard-write; encrypted-media; gyroscope; picture-in-picture; web-share\" allowfullscreen></iframe></p>\n",
    "\n",
    "\n",
    "***Obs: Assunto novo a partir do tempo (07:20 até 32:00) da vídeo aula.***"
   ]
  },
  {
   "cell_type": "markdown",
   "metadata": {},
   "source": [
    "## **Diagrama de Boxplot (Diagrama de caixas)**"
   ]
  },
  {
   "cell_type": "markdown",
   "metadata": {},
   "source": [
    "\n",
    "Boxplot, também conhecido como diagrama de caixa ou gráfico de caixa, é uma ferramenta estatística utilizada para representar a distribuição de um conjunto de dados numéricos, destacando medidas de posição (como a mediana), dispersão e identificação de valores atípicos.\n",
    "\n",
    "<p align=center><img src=\"./uteis/g2.png\" width=\"400\"></p>\n",
    "\n",
    "Um boxplot é composto por elementos básicos que incluem:\n",
    "\n",
    "+ **Caixa (Box):** A caixa no centro do gráfico representa o intervalo interquartil (IQR), que abrange a maior parte dos dados (50% dos dados). A parte inferior da caixa indica o primeiro quartil (Q1), e a parte superior indica o terceiro quartil (Q3). A mediana é representada pela linha dentro da caixa.\n",
    "\n",
    "+ **Whiskers (ou Hastes) - [Limites Inferior e Superior]:** São linhas que se estendem a partir da caixa até os valores extremos. Existem diferentes maneiras de calcular esses limites, mas geralmente eles se estendem até 1,5 vezes o IQR a partir dos quartis. Valores além desses limites são frequentemente considerados outliers.\n",
    "\n",
    "+ **Outliers (valores atípicos):** São pontos individuais fora dos limites dos whiskers. Eles podem ser indicativos de dados extremos ou erros na coleta dos dados.\n",
    "\n",
    "+ **Linha Central (Mediana):** Representa o valor central do conjunto de dados. Divide os dados em duas partes iguais, com 50% dos dados acima e 50% abaixo, também é o Quartil (Q2).\n",
    "\n",
    "Boxplots são úteis para comparar a distribuição de dados entre diferentes grupos ou categorias e identificar padrões, variabilidade e valores extremos nos dados. Eles são amplamente utilizados em estatística descritiva e análise exploratória de dados."
   ]
  },
  {
   "cell_type": "markdown",
   "metadata": {},
   "source": [
    "#### Exemplo com Python"
   ]
  },
  {
   "cell_type": "code",
   "execution_count": 516,
   "metadata": {},
   "outputs": [],
   "source": [
    "import numpy as np\n",
    "from matplotlib import pyplot as plt\n",
    "\n",
    "%matplotlib inline"
   ]
  },
  {
   "cell_type": "markdown",
   "metadata": {},
   "source": [
    "Gerando dados de exemplo"
   ]
  },
  {
   "cell_type": "code",
   "execution_count": 517,
   "metadata": {},
   "outputs": [
    {
     "data": {
      "text/plain": [
       "array([ 32.26014166,  35.3281327 ,  70.67231024, 163.23598357,\n",
       "        92.86415718,  29.4313107 ,  35.56374438,  54.13661218,\n",
       "        66.78466415,  40.51788624,  53.75739196,  34.55777673,\n",
       "        78.93332712,  67.9177949 ,  53.24851851,  25.2169243 ,\n",
       "        34.17688898,  68.82599094,  13.02046926,  74.92560449,\n",
       "        17.31083356,  26.2724787 ,  35.0827852 , 228.530377  ,\n",
       "         1.80113777,  76.99122681, -93.19886223,  73.84447609,\n",
       "        61.50676765,  68.42041643,  98.93089913,  13.2624979 ,\n",
       "        42.35715498,  81.2764354 ,  87.73166559,  57.91586317,\n",
       "        78.69920674,  73.98948645,  91.2365953 ,  62.06805746,\n",
       "        91.6975699 ,  21.23269307,  48.2321455 , -53.19886223,\n",
       "         4.6474706 ,  36.81887027,  98.09483473,  31.02382121,\n",
       "        97.1811973 ,  29.62911965])"
      ]
     },
     "execution_count": 517,
     "metadata": {},
     "output_type": "execute_result"
    }
   ],
   "source": [
    "rng = np.random.default_rng()\n",
    "x = rng.uniform(size=(50,), low=1, high=100)\n",
    "\n",
    "# Adicionando outliers\n",
    "x[3], x[43] = (max(x)*1.65, (min(x)-55))\n",
    "x[23], x[26] = (max(x)*1.40, (min(x)-40))\n",
    "x"
   ]
  },
  {
   "cell_type": "code",
   "execution_count": 518,
   "metadata": {},
   "outputs": [
    {
     "data": {
      "image/png": "[encoded data removed]",
      "text/plain": [
       "<Figure size 640x480 with 1 Axes>"
      ]
     },
     "metadata": {},
     "output_type": "display_data"
    }
   ],
   "source": [
    "plt.boxplot(x);"
   ]
  }
 ],
 "metadata": {
  "kernelspec": {
   "display_name": "Python 3",
   "language": "python",
   "name": "python3"
  },
  "language_info": {
   "codemirror_mode": {
    "name": "ipython",
    "version": 3
   },
   "file_extension": ".py",
   "mimetype": "text/x-python",
   "name": "python",
   "nbconvert_exporter": "python",
   "pygments_lexer": "ipython3",
   "version": "3.10.12"
  }
 },
 "nbformat": 4,
 "nbformat_minor": 2
}
