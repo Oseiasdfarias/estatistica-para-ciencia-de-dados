{
 "cells": [
  {
   "cell_type": "markdown",
   "id": "c29680d5-2543-442c-b452-d8dc36518016",
   "metadata": {},
   "source": [
    "# **P1 - Estatística para Ciência de Dados**    \n",
    "\n",
    "#### ***Tema: Medidas de Tendência Central - Estatística Descritiva***"
   ]
  },
  {
   "cell_type": "markdown",
   "id": "b899c93e",
   "metadata": {},
   "source": [
    "[Link da Video Aula do EstaTiDados](https://www.youtube.com/embed/uTpaICj8bow?si=r3azlPMiHvvLPf-w)\n",
    "\n",
    "<p align=center><iframe width=\"560\" height=\"315\" src=\"https://www.youtube.com/embed/uTpaICj8bow?si=r3azlPMiHvvLPf-w\" title=\"YouTube video player\" frameborder=\"0\" allow=\"accelerometer; autoplay; clipboard-write; encrypted-media; gyroscope; picture-in-picture; web-share\" allowfullscreen></iframe></p>\n",
    "\n",
    "#### **Conceito:**\n",
    "A estatística é uma disciplina da matemática que se dedica à coleta, análise, interpretação, apresentação e organização de dados. Seu objetivo principal é extrair informações significativas e conclusões confiáveis a partir de conjuntos de dados, ajudando a entender padrões, tendências e relações em fenômenos variados.\n",
    "\n",
    "Existem duas principais áreas na estatística:\n",
    "\n",
    "+ **Estatística Descritiva:** Envolve a organização, resumo e apresentação de dados. Medidas como médias, medianas, modas, desvios padrão e gráficos são comumente utilizadas para descrever as características essenciais de um conjunto de dados.\n",
    "+ **Probabilidade:** A teoria das probabilidades é fundamental para a estatística. Ela fornece a base matemática para lidar com a incerteza e a aleatoriedade. A probabilidade é essencial para a inferência estatística e a modelagem de fenômenos aleatórios.\n",
    "+ **Inferência Estatística:** Esta área se concentra em fazer inferências sobre uma população com base em uma amostra representativa. Isso inclui a estimação de parâmetros populacionais, testes de hipóteses e a construção de intervalos de confiança.\n",
    "\n",
    "A estatística é uma ferramenta crucial em diversas áreas, incluindo ciências, negócios, economia, medicina, engenharia, entre outras. Ela desempenha um papel fundamental na tomada de decisões informadas, fornecendo insights valiosos e fundamentando argumentos com base em evidências numéricas. Além disso, a estatística é frequentemente utilizada para realizar experimentos controlados, estudar fenômenos naturais e modelar o comportamento de sistemas complexos."
   ]
  },
  {
   "cell_type": "markdown",
   "id": "0d79569f",
   "metadata": {},
   "source": [
    "Tema Foco para este notebook - **estatística descritiva - Medidas de Tendência Central**\n",
    "\n",
    "Além disso podemos dividir a estatistica descritiva em dois grupos:\n",
    "\n",
    "+ ***Medidas de Posição / Medidas de Tendência Central:*** As medidas de tendência central são estatísticas que procuram representar o valor central ou típico de um conjunto de dados. Elas são uma parte fundamental da estatística descritiva e ajudam a resumir e compreender a distribuição dos dados. As principais medidas de tendência central são a média, a mediana e a moda.\n",
    "+ ***Medidas de Dispersão:*** \n",
    "As medidas de dispersão são estatísticas que indicam o quanto os valores de um conjunto de dados se afastam, ou dispersam, em relação a uma medida de tendência central. Elas fornecem informações sobre a variabilidade ou a dispersão dos dados, complementando as medidas de tendência central. Algumas das principais medidas de dispersão incluem a amplitude, a variância e o desvio padrão.\n",
    "\n"
   ]
  },
  {
   "cell_type": "markdown",
   "id": "7a26fe3f",
   "metadata": {},
   "source": [
    "#### **Medidas de Tendência Central**\n",
    "\n",
    "**Média Aritmética:** A média aritmética é uma medida comum de tendência central. Ela é calculada somando todos os valores em um conjunto de dados e dividindo pela quantidade total de valores.\n",
    "\n",
    "$$\\dfrac{\\sum_{i=1}^{n} x_i}{n}$$\n",
    "\n",
    "Obs: A média é sensível a valores extremos, também conhecidos como outliers."
   ]
  },
  {
   "cell_type": "markdown",
   "id": "93c98e9f",
   "metadata": {},
   "source": [
    "***Exemplo Prático com Python:***"
   ]
  },
  {
   "cell_type": "code",
   "execution_count": 74,
   "id": "f0504720",
   "metadata": {},
   "outputs": [
    {
     "name": "stdout",
     "output_type": "stream",
     "text": [
      "\n",
      "Média Aritmética de [1, 2, 5, 3, 4]: 3.0\n",
      "\n"
     ]
    }
   ],
   "source": [
    "def media_aritmetica(valores):\n",
    "    soma = 0\n",
    "    for i in valores:\n",
    "        soma+=i  # Somatório das amostras\n",
    "    return round(soma/len(valores), 3)\n",
    "\n",
    "print(f\"\\nMédia Aritmética de [1, 2, 5, 3, 4]: \\\n",
    "{media_aritmetica([1, 2, 5, 3, 4])}\\n\")"
   ]
  },
  {
   "cell_type": "markdown",
   "id": "8c748bd5",
   "metadata": {},
   "source": [
    "**Média Geométrica:** A média geométrica é uma medida estatística que representa a \"média\" dos valores de um conjunto de dados, mas ao contrário da média aritmética, ela leva em consideração as proporções dos valores. Essa medida é especialmente útil quando se trata de dados que envolvem crescimento exponencial, taxas de retorno ou situações em que as relações proporcionais são significativas.\n",
    "\n",
    "A fórmula da média geométrica para um conjunto de $n$ valores $X_1, X_2, X_3, \\dots, X_n$.\n",
    "\n",
    "$$\\sqrt[n]{X_1 \\cdot X_2 \\cdot X_3  \\dots \\cdot X_n}$$\n",
    "\n",
    "Onde:\n",
    "\n",
    "+ $G$ é a média geométrica.\n",
    "+ $n$ é o número total de valores no conjunto de dados.\n",
    "+ ​ $X_1, X_2, X_3, \\dots, X_n$ são os valores individuais.\n",
    "\n",
    "É importante notar que a média geométrica só pode ser calculada para conjuntos de dados contendo valores não negativos, pois a raiz `n-ésima` de um produto de valores negativos resultaria em um número complexo.\n",
    "\n",
    "A média geométrica é frequentemente usada em finanças para calcular taxas de retorno médias ao longo de vários períodos. Também é aplicada em áreas como ecologia, bioestatística e outras disciplinas onde a interpretação em termos de proporções é relevante. Ela destaca a importância relativa das diferentes partes de um conjunto de dados e pode ser uma alternativa útil à média aritmética em certos contextos."
   ]
  },
  {
   "cell_type": "code",
   "execution_count": 75,
   "id": "080650be",
   "metadata": {},
   "outputs": [
    {
     "name": "stdout",
     "output_type": "stream",
     "text": [
      "\n",
      "Média Geométrica de [1, 2, 5, 3, 4]: 2.605\n",
      "\n"
     ]
    }
   ],
   "source": [
    "import numpy as np\n",
    "\n",
    "def media_geometrica(valores):\n",
    "    mult = 1\n",
    "    for i in valores:\n",
    "        mult*=i  # Produtório das amostras\n",
    "    return round(np.power(mult, 1./len(valores)), 3)\n",
    "\n",
    "print(f\"\\nMédia Geométrica de [1, 2, 5, 3, 4]: \\\n",
    "{media_geometrica([1, 2, 5, 3, 4])}\\n\")"
   ]
  },
  {
   "cell_type": "markdown",
   "id": "b713da59",
   "metadata": {},
   "source": [
    "**Média Harmônica:** A média harmônica é outra medida de tendência central utilizada na estatística. Ela difere da média aritmética e da média geométrica em sua abordagem para calcular uma média. A média harmônica é especialmente útil em situações em que as relações inversas são importantes, como taxas médias de velocidade ou taxas médias de retorno financeiro.\n",
    "\n",
    "A fórmula da média harmônica para um conjunto de $n$ valores $X_1, X_2, X_3, \\dots, X_n$ ​é dada por:\n",
    "\n",
    "$$H = \\dfrac{n}{\\dfrac{1}{x_1}+\\dfrac{1}{x_2}+\\dots+\\dfrac{1}{x_n}}$$\n",
    "\n",
    "Onde:\n",
    "\n",
    "+ $H$ é a média harmônica.\n",
    "+ $n$ é o número total de valores no conjunto de dados.\n",
    "+ ​ $X_1, X_2, X_3, \\dots, X_n$  são os valores individuais.\n",
    "\n",
    "\n",
    "A média harmônica é mais sensível a valores extremos do que a média aritmética, o que significa que um único valor muito pequeno pode ter um impacto significativo na média harmônica. Por outro lado, ela é menos influenciada por valores extremamente grandes.\n",
    "\n",
    "A aplicação comum da média harmônica inclui cálculos de velocidade média e taxas médias, onde as inversas das velocidades individuais ou taxas de retorno são somadas e depois invertidas novamente para obter a média. É uma medida específica para casos em que há uma relação inversa entre as variáveis e pode ser útil em contextos específicos."
   ]
  },
  {
   "cell_type": "code",
   "execution_count": 76,
   "id": "46077621",
   "metadata": {},
   "outputs": [
    {
     "name": "stdout",
     "output_type": "stream",
     "text": [
      "\n",
      "Média Harmônica de [1, 2, 5, 3, 4]: 2.19\n",
      "\n"
     ]
    }
   ],
   "source": [
    "def media_harmonica(valores):\n",
    "    soma = 0\n",
    "    for i in valores:\n",
    "        soma+=(1./i)  # Somatório dos inversos das amostras\n",
    "    return round(len(valores)/soma, 3)\n",
    "\n",
    "print(f\"\\nMédia Harmônica de [1, 2, 5, 3, 4]: \\\n",
    "{media_harmonica([1, 2, 5, 3, 4])}\\n\")"
   ]
  },
  {
   "cell_type": "markdown",
   "id": "93149562",
   "metadata": {},
   "source": [
    "***Relação entre as médias, $MA \\geq MG \\geq MH$, só existe uma possibilidade das três serem iguais, se e somente se todas as observações do conjuntos forem as mesmas, exemplificação as células de códigos abaixo.***"
   ]
  },
  {
   "cell_type": "code",
   "execution_count": 40,
   "id": "d4f121ce",
   "metadata": {},
   "outputs": [
    {
     "data": {
      "text/plain": [
       "2.0"
      ]
     },
     "execution_count": 40,
     "metadata": {},
     "output_type": "execute_result"
    }
   ],
   "source": [
    "media_aritmetica([2, 2, 2])"
   ]
  },
  {
   "cell_type": "code",
   "execution_count": 41,
   "id": "a9e24ef3",
   "metadata": {},
   "outputs": [
    {
     "data": {
      "text/plain": [
       "2.0"
      ]
     },
     "execution_count": 41,
     "metadata": {},
     "output_type": "execute_result"
    }
   ],
   "source": [
    "media_geometrica([2, 2, 2])"
   ]
  },
  {
   "cell_type": "code",
   "execution_count": 42,
   "id": "0cd91ce0",
   "metadata": {},
   "outputs": [
    {
     "data": {
      "text/plain": [
       "2.0"
      ]
     },
     "execution_count": 42,
     "metadata": {},
     "output_type": "execute_result"
    }
   ],
   "source": [
    "media_harmonica([2, 2, 2])"
   ]
  },
  {
   "cell_type": "markdown",
   "id": "0b7b06d9",
   "metadata": {},
   "source": [
    "**Média Ponderada:** A média ponderada é uma medida de tendência central que leva em consideração diferentes pesos atribuídos a diferentes valores em um conjunto de dados. Em vez de atribuir igual importância a todos os valores, a média ponderada permite que alguns valores tenham mais impacto na média do que outros, com base em seus pesos relativos.\n",
    "\n",
    "A fórmula geral para a média ponderada é:\n",
    "\n",
    "$$MP = \\dfrac{w_1\\cdot X_1 + w_2\\cdot X_2 + w_3\\cdot X_3 + \\dots + w_n\\cdot X_n}{w_1 + w_2 + w_3 \n",
    "+ \\dots + w_n}$$\n",
    "\n",
    "Onde:\n",
    "\n",
    "+ $X_1, X_2, X_3, \\dots, X_n$ são os valores individuais.\n",
    "+ $w_1 + w_2 + w_3 + \\dots + w_n$ são os pesos correspondentes a cada valor.\n",
    "\n",
    "Os pesos indicam a importância relativa de cada valor na média. Valores com pesos mais altos terão um impacto maior na média ponderada. Por exemplo, se estivermos calculando a média ponderada das notas de um aluno, podemos atribuir pesos diferentes a cada prova com base em sua importância ou carga horária.\n",
    "\n",
    "A média ponderada é frequentemente usada em diversas áreas, incluindo finanças, economia, estatísticas de negócios e avaliações de desempenho, onde alguns valores são mais significativos que outros. Ela oferece uma maneira flexível de calcular uma média que reflete a importância relativa dos diferentes componentes de um conjunto de dados."
   ]
  },
  {
   "cell_type": "code",
   "execution_count": 43,
   "id": "eb33cb35",
   "metadata": {},
   "outputs": [
    {
     "name": "stdout",
     "output_type": "stream",
     "text": [
      "\n",
      "Média Ponderada: pesos=[2, 3, 2], amostras=[5, 5, 5] = 5.0\n",
      "\n"
     ]
    }
   ],
   "source": [
    "def media_ponderada(pesos, amostras):\n",
    "    soma_notas = 0\n",
    "    soma_pesos = 0\n",
    "    for p, a in zip(pesos, amostras):\n",
    "        soma_notas += p*a\n",
    "        soma_pesos += p\n",
    "    return soma_notas/soma_pesos\n",
    "\n",
    "\n",
    "mp = media_ponderada(pesos=[2, 3, 2], amostras=[5, 5, 5])\n",
    "print(f\"\\nMédia Ponderada: pesos=[2, 3, 2], amostras=[5, 5, 5] = {mp}\\n\")"
   ]
  },
  {
   "cell_type": "markdown",
   "id": "b869e8bd",
   "metadata": {},
   "source": [
    "**Média Aritmética para Dados Agrupados em Classes:** Quando trabalhamos com dados agrupados em classes, a média aritmética é calculada de maneira ligeiramente diferente em comparação com dados individuais. Nesse contexto, a média aritmética é chamada de \"média ponderada por frequência\" ou simplesmente \"média ponderada\". A fórmula para calcular a média aritmética de dados agrupados em classes é a seguinte:\n",
    "\n",
    "$$\\overline{X} = \\dfrac{\\sum_{i=1}^{k} f_i \\cdot x_i}{N}$$\n",
    "\n",
    "Onde:\n",
    "\n",
    "+ $\\overline{X}$ é a média aritmética.\n",
    "+ $f_i$ é a frequência da i-ésima classe.\n",
    "+ $x_i$  é o ponto médio da i-ésima classe.\n",
    "+ $N$ é o total de observações (a soma de todas as frequências).\n",
    "\n",
    "O ponto médio $(x_i)$ de uma classe é calculado como a média dos limites inferior e superior da classe. A fórmula é $x_i = \\frac{L_i+L_s}{2}$ , onde $L_i$ é o limite inferior e $L_s$ é o limite superior da classe.\n",
    "\n",
    "Essa fórmula reflete o conceito de média ponderada, onde cada ponto médio é ponderado pela sua frequência relativa à amostra total. A soma é então dividida pelo total de observações para obter a média.\n",
    "\n",
    "A média aritmética para dados agrupados em classes é útil quando os dados estão apresentados em forma de histograma ou tabela de frequências. Isso permite uma análise estatística mais fácil e eficiente, especialmente quando lidamos com grandes conjuntos de dados."
   ]
  },
  {
   "cell_type": "code",
   "execution_count": 78,
   "id": "dfaba32b",
   "metadata": {},
   "outputs": [
    {
     "name": "stdout",
     "output_type": "stream",
     "text": [
      "\n",
      "Média Aritmética classes: classes=[[1, 2, 3], [4, 5, 6]], frequencias_classes=[2, 3, 3] = 2.5\n",
      "\n"
     ]
    }
   ],
   "source": [
    "def media_aritmetica_classes(classes, frequencias_classes):\n",
    "    x = 0\n",
    "    multiplicatorio = 1\n",
    "    for n, i in enumerate(classes):\n",
    "        li = min(i)\n",
    "        ls = max(i)\n",
    "        xi = (li+ls)/2\n",
    "        multiplicatorio += frequencias_classes[n]*xi\n",
    "    return multiplicatorio/sum(frequencias_classes)\n",
    "\n",
    "mpc = media_aritmetica_classes(classes=[[1, 2, 3],\n",
    "                                       [4, 5, 6]],\n",
    "                                       frequencias_classes=[2, 3, 3])\n",
    "print(f\"\\nMédia Aritmética classes:\\\n",
    " classes=[[1, 2, 3], [4, 5, 6]], frequencias_classes=[2, 3, 3] = {mpc}\\n\")"
   ]
  },
  {
   "cell_type": "markdown",
   "id": "b8a4718e",
   "metadata": {},
   "source": [
    "## Mediana"
   ]
  },
  {
   "cell_type": "markdown",
   "id": "f247aa0b",
   "metadata": {},
   "source": [
    "A mediana é uma medida de tendência central que representa o valor que divide um conjunto de dados ordenado ao meio. Isso significa que 50% dos valores estão abaixo da mediana e 50% estão acima. Ao contrário da média aritmética, a mediana não é afetada por valores extremos, sendo uma medida mais robusta em relação a outliers.\n",
    "\n",
    "Para calcular a mediana, siga estes passos:\n",
    "\n",
    "+ ***1. Organize os dados em (rol) ordem crescente ou decrescente.***\n",
    "\n",
    "+ ***2. Se o número de observações (n) for ímpar:***\n",
    "  + A mediana é o valor central do conjunto ordenado.\n",
    "\n",
    "    Mediana = $X_{\\frac{n+1}{2}}$\n",
    "\n",
    "+ ***3. Se o número de observações (n) for par:***\n",
    "  + A mediana é a média dos dois valores centrais.\n",
    "    \n",
    "    Mediana = $\\dfrac{X_{\\frac{n}{2}} + X_{\\frac{n}{2}+1}}{2}$\n",
    "\n",
    "\n",
    "Onde:\n",
    "\n",
    "+ $X_i$ é o i-ésimo valor no conjunto de dados.\n",
    "+ $n$ é o número total de observações.\n",
    "\n",
    "\n",
    "A mediana é especialmente útil quando lidamos com conjuntos de dados que podem conter valores atípicos ou quando a distribuição dos dados não é simétrica. Ela fornece uma medida de centralidade mais robusta em comparação com a média aritmética em tais situações.\n",
    "\n",
    "Em termos de interpretação, a mediana é o valor que divide a distribuição ao meio, indicando que metade dos dados está abaixo e metade está acima desse ponto.\n",
    "\n",
    "\n",
    "\n"
   ]
  },
  {
   "cell_type": "code",
   "execution_count": 71,
   "id": "173b5008",
   "metadata": {},
   "outputs": [
    {
     "name": "stdout",
     "output_type": "stream",
     "text": [
      "\n",
      "Mediana nº amostra impar: [1, 2, 3] = 2\n",
      "\n",
      "Mediana nº amostra par: [1, 2, 3, 4] = 2.5\n",
      "\n"
     ]
    }
   ],
   "source": [
    "def mediana(conjunto_dados):\n",
    "    ordem_cd = np.sort(conjunto_dados)\n",
    "    if (len(ordem_cd) % 2==0):\n",
    "        index = int((len(ordem_cd))/2)\n",
    "        return (ordem_cd[index-1] + ordem_cd[index])/2.\n",
    "    else:\n",
    "        index = int((len(ordem_cd)+1)/2)\n",
    "        return ordem_cd[index-1]\n",
    "\n",
    "\n",
    "print(f\"\\nMediana nº amostra impar: [1, 2, 3] = {mediana([1, 2, 3])}\\n\")\n",
    "print(f\"Mediana nº amostra par: [1, 2, 3, 4] = {mediana([1, 2, 3, 4])}\\n\")"
   ]
  },
  {
   "cell_type": "markdown",
   "id": "39e159f1",
   "metadata": {},
   "source": [
    "Para calcular a mediana para dados agrupados em classes, você pode seguir os seguintes passos:\n",
    "\n",
    "+ ***1. Encontre a classe mediana:***\n",
    "\n",
    "    + Determine a classe que contém a mediana. Isso geralmente é feito olhando para as frequências acumuladas.\n",
    "    + Se a mediana estiver na classe $i$, você pode usar a fórmula $L_i+\\dfrac{N/2-F_{i-1}}{f_i}$ , onde:\n",
    "      + $L_i$ é o limite inferior da classe mediana,\n",
    "      + $F_{i-1}$ é a frequência acumulada da classe imediatamente anterior à classe mediana,\n",
    "      + $f_i$ é a frequência da classe mediana, e\n",
    "      + $N$ é o total de observações.\n",
    "+ ***2. Calcule a mediana dentro da classe mediana:***\n",
    "  + Uma vez que você encontrou a classe mediana, você pode calcular a mediana dentro dessa classe usando a fórmula da mediana ajustada para dados agrupados. Geralmente, essa fórmula é:\n",
    "    + Mediana = $L_i+\\dfrac{N/2-F_{i-1}}{f_i} \\times c_i$, onde:\n",
    "      + $c_i$ é a amplitude da classe mediana (diferença entre os limites superior e inferior).\n"
   ]
  },
  {
   "cell_type": "code",
   "execution_count": 46,
   "id": "135eac53",
   "metadata": {},
   "outputs": [
    {
     "name": "stdout",
     "output_type": "stream",
     "text": [
      "\n",
      "Mediana de dados agrupados  = 35.83\n",
      "\n"
     ]
    }
   ],
   "source": [
    "classes = [[10,19], [20, 29], [30, 39], [40, 49], [50, 59]]\n",
    "frequencias = [5, 8, 12, 10, 5]\n",
    "\n",
    "def classe_mediana(classes, frequencias):\n",
    "    \"\"\" Determina a classe que contém a mediana.\"\"\"\n",
    "    N = sum(frequencias)\n",
    "    f_acumulada = 0\n",
    "    f_acumulada_anterior = 0\n",
    "    for i, c in zip(frequencias, classes):\n",
    "        f_acumulada_anterior = f_acumulada\n",
    "        f_acumulada += i\n",
    "        if f_acumulada >= N/2:\n",
    "            return c[0], N/2, f_acumulada_anterior, i, c[1]+1-c[0]\n",
    "\n",
    "\n",
    "def calculo_mediana_classe(dados):\n",
    "    \"\"\" Calcula a mediana da classe\"\"\"\n",
    "    return round(dados[0]+((dados[1]-dados[2])/dados[3])*dados[4], 2)\n",
    "\n",
    "mediana = calculo_mediana_classe(classe_mediana(classes, frequencias))\n",
    "print(f\"\\nMediana de dados agrupados  = {mediana}\\n\")"
   ]
  },
  {
   "cell_type": "markdown",
   "id": "eb2c931e",
   "metadata": {},
   "source": [
    "#### Medidas Separatrizes\n",
    "\n",
    "Medidas separatrizes são estatísticas utilizadas para dividir um conjunto de dados ordenado em partes iguais ou proporcionais. Elas ajudam a identificar a posição relativa de um valor específico dentro do conjunto de dados, indicando percentis ou quartis. As medidas separatrizes incluem:\n",
    "\n",
    "+ ***1. Quartis:***\n",
    "  + Os quartis dividem um conjunto de dados ordenado em quatro partes iguais.\n",
    "  + O primeiro quartil (Q1) é o valor abaixo do qual estão 25% dos dados.\n",
    "  + O segundo quartil (Q2) é equivalente à mediana e representa o valor abaixo do qual estão 50% dos dados.\n",
    "  + O terceiro quartil (Q3) é o valor abaixo do qual estão 75% dos dados.\n",
    "  + O quarto quartil (Q4) seria o valor abaixo do qual estão 100% dos dados, mas, na prática, ele coincide com o maior valor do conjunto."
   ]
  },
  {
   "cell_type": "code",
   "execution_count": 54,
   "id": "dfdc1322",
   "metadata": {},
   "outputs": [
    {
     "name": "stdout",
     "output_type": "stream",
     "text": [
      "\n",
      "Q1:  [1 2 3]\n",
      "\n",
      "Q2:  [1 2 3 3 4 4 5]\n",
      "\n",
      "Q3:  [1 2 3 3 4 4 5 5 6 6]\n",
      "\n",
      "Q4:  [1 2 3 3 4 4 5 5 6 6 7 8 8 8]\n"
     ]
    }
   ],
   "source": [
    "def quartis(conjunto_dados):\n",
    "    conjunto_dados = np.sort(conjunto_dados)\n",
    "    t_conjunto = len(conjunto_dados)\n",
    "    q1 = conjunto_dados[:int(t_conjunto*0.25)]\n",
    "    q2 = conjunto_dados[:int(t_conjunto*0.50)]\n",
    "    q3 = conjunto_dados[:int(t_conjunto*0.75)]\n",
    "    print(\"\\nQ1: \", q1)\n",
    "    print(\"\\nQ2: \", q2)\n",
    "    print(\"\\nQ3: \", q3)\n",
    "    print(\"\\nQ4: \", conjunto_dados)\n",
    "\n",
    "quartis([1, 2, 3, 4, 5, 6, 7, 8, 8, 8, 3, 4, 5, 6])"
   ]
  },
  {
   "cell_type": "markdown",
   "id": "0d3b4568",
   "metadata": {},
   "source": [
    "+ ***2. Percentis:***\n",
    "    + Os percentis são medidas que dividem o conjunto de dados em 100 partes iguais.\n",
    "    + O percentil $P_x$ indica o valor abaixo do qual $x\\%$ dos dados estão.\n",
    "    + Por exemplo, o percentil 25($P_{25}$) é equivalente ao primeiro quartil (Q1)."
   ]
  },
  {
   "cell_type": "code",
   "execution_count": 70,
   "id": "cba314ce",
   "metadata": {},
   "outputs": [
    {
     "name": "stdout",
     "output_type": "stream",
     "text": [
      "\n",
      "Percentis P25 de [1, 4, 3, 5, 7, 3, 7, 3, 6, 3, 6, 3]: [1 3 3]\n"
     ]
    }
   ],
   "source": [
    "def percentis(conjunto_dados, px):\n",
    "    conjunto_dados = np.sort(conjunto_dados)\n",
    "    t_conjunto = len(conjunto_dados)\n",
    "    return conjunto_dados[:int(t_conjunto*(px/100.))]\n",
    "\n",
    "print(f\"\\nPercentis P25 de \\\n",
    "[1, 4, 3, 5, 7, 3, 7, 3, 6, 3, 6, 3]: \\\n",
    "{percentis([1, 4, 3, 5, 7, 3, 7, 3, 6, 3, 6, 3], 25)}\")"
   ]
  },
  {
   "cell_type": "markdown",
   "id": "cbe154e3",
   "metadata": {},
   "source": [
    "As medidas separatrizes são úteis para entender a distribuição dos dados e identificar pontos específicos dentro do conjunto. Por exemplo, se quisermos saber o valor abaixo do qual estão os $10%$ dos dados mais baixos, podemos olhar para o décimo percentil $P_{10}$. Essas medidas são particularmente úteis quando o conjunto de dados é extenso, e a análise mais detalhada é necessária."
   ]
  }
 ],
 "metadata": {
  "kernelspec": {
   "display_name": "Python 3 (ipykernel)",
   "language": "python",
   "name": "python3"
  },
  "language_info": {
   "codemirror_mode": {
    "name": "ipython",
    "version": 3
   },
   "file_extension": ".py",
   "mimetype": "text/x-python",
   "name": "python",
   "nbconvert_exporter": "python",
   "pygments_lexer": "ipython3",
   "version": "3.10.12"
  }
 },
 "nbformat": 4,
 "nbformat_minor": 5
}
