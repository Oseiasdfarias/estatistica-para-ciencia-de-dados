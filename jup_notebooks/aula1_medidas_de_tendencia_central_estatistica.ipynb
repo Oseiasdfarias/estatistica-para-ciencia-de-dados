{
 "cells": [
  {
   "cell_type": "code",
   "execution_count": null,
   "id": "c29680d5-2543-442c-b452-d8dc36518016",
   "metadata": {},
   "outputs": [],
   "source": []
  }
 ],
 "metadata": {
  "kernelspec": {
   "display_name": "Python 3 (ipykernel)",
   "language": "python",
   "name": "python3"
  },
  "language_info": {
   "codemirror_mode": {
    "name": "ipython",
    "version": 3
   },
   "file_extension": ".py",
   "mimetype": "text/x-python",
   "name": "python",
   "nbconvert_exporter": "python",
   "pygments_lexer": "ipython3",
   "version": "3.10.12"
  }
 },
 "nbformat": 4,
 "nbformat_minor": 5
}
